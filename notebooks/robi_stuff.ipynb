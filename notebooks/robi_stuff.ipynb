{
 "cells": [
  {
   "cell_type": "code",
   "execution_count": 2,
   "id": "dd0beb76",
   "metadata": {},
   "outputs": [
    {
     "name": "stdout",
     "output_type": "stream",
     "text": [
      "%pylab is deprecated, use %matplotlib inline and import the required libraries.\n",
      "Populating the interactive namespace from numpy and matplotlib\n"
     ]
    }
   ],
   "source": [
    "%pylab inline\n",
    "from scipy.spatial.distance import cdist"
   ]
  },
  {
   "cell_type": "code",
   "execution_count": 3,
   "id": "1f0aaf76",
   "metadata": {
    "scrolled": true
   },
   "outputs": [],
   "source": [
    "def find_dists(X,rep):\n",
    "    C=cdist(X,rep)\n",
    "    index=argmin(C,axis=1)\n",
    "    dist=np.min(C,axis=1)\n",
    "    return index,dist\n",
    "\n",
    "def find_cover_iter(rep,X,epsilon=1,debug=False) :\n",
    "    m=X.shape[0]\n",
    "    found=False\n",
    "    for i in range(m):\n",
    "        x=X[i:i+1,:]  # can make more efficient by checking several at once and keeping \n",
    "                      # track of the location of the last find.\n",
    "        _,dist=find_dists(x,rep)\n",
    "        if np.min(dist)>epsilon:\n",
    "            if debug:\n",
    "                print(i,np.min(dist),rep.shape)\n",
    "            rep=concatenate([rep,x],axis=0)\n",
    "            found=True\n",
    "    return rep,found\n",
    "\n",
    "def source(m,n):\n",
    "    \" a generator of example batches\"\n",
    "    while True:\n",
    "        yield (rand(m,n)*2)-1\n",
    "\n",
    "def find_cover(rep,source,epsilon=1,debug=False):\n",
    "    found=True; j=0\n",
    "    cover=rep\n",
    "    for X in source():\n",
    "        cover,found=find_cover_iter(cover,X,epsilon=epsilon,debug=debug)\n",
    "        if debug:\n",
    "            print('### round ',j,cover.shape); j+=1\n",
    "        if not found:\n",
    "            break\n",
    "    return cover\n",
    "\n",
    "def split(X,cover):\n",
    "    \"\"\" Partition rows in X according to the cclosest row in cover\"\"\"\n",
    "    index,dist = find_dists(X,cover)\n",
    "    \n",
    "    subset=[]\n",
    "    for i in range(cover.shape[0]):\n",
    "        s=X[nonzero(index==i),:]\n",
    "        subset.append(s[0,:,:])\n",
    "    return subset"
   ]
  },
  {
   "cell_type": "code",
   "execution_count": 4,
   "id": "67e8529e",
   "metadata": {
    "scrolled": true
   },
   "outputs": [
    {
     "data": {
      "text/plain": [
       "(6, 2)"
      ]
     },
     "execution_count": 4,
     "metadata": {},
     "output_type": "execute_result"
    }
   ],
   "source": [
    "n=2;\n",
    "m=3\n",
    "rep=eye(n)\n",
    "X=concatenate([eye(n)*(1+0.1*i) for i in range(m)],axis=0)\n",
    "X.shape"
   ]
  },
  {
   "cell_type": "code",
   "execution_count": 5,
   "id": "e1e3ccd0",
   "metadata": {},
   "outputs": [
    {
     "data": {
      "text/plain": [
       "array([[1. , 0. ],\n",
       "       [0. , 1. ],\n",
       "       [1.1, 0. ],\n",
       "       [0. , 1.1],\n",
       "       [1.2, 0. ],\n",
       "       [0. , 1.2]])"
      ]
     },
     "execution_count": 5,
     "metadata": {},
     "output_type": "execute_result"
    }
   ],
   "source": [
    "X"
   ]
  },
  {
   "cell_type": "code",
   "execution_count": 6,
   "id": "ad3f95e9",
   "metadata": {},
   "outputs": [],
   "source": [
    "index,dist = find_dists(X,rep)"
   ]
  },
  {
   "cell_type": "code",
   "execution_count": 7,
   "id": "054dfd04",
   "metadata": {},
   "outputs": [
    {
     "data": {
      "text/plain": [
       "array([0, 1, 0, 1, 0, 1])"
      ]
     },
     "execution_count": 7,
     "metadata": {},
     "output_type": "execute_result"
    }
   ],
   "source": [
    "index"
   ]
  },
  {
   "cell_type": "code",
   "execution_count": 8,
   "id": "21416aff",
   "metadata": {},
   "outputs": [
    {
     "data": {
      "text/plain": [
       "array([0. , 0. , 0.1, 0.1, 0.2, 0.2])"
      ]
     },
     "execution_count": 8,
     "metadata": {},
     "output_type": "execute_result"
    }
   ],
   "source": [
    "dist"
   ]
  },
  {
   "cell_type": "markdown",
   "id": "f5ff2508",
   "metadata": {},
   "source": [
    "### finding a cover"
   ]
  },
  {
   "cell_type": "code",
   "execution_count": 9,
   "id": "b5652a09",
   "metadata": {},
   "outputs": [
    {
     "name": "stdout",
     "output_type": "stream",
     "text": [
      "CPU times: user 523 ms, sys: 6.83 ms, total: 529 ms\n",
      "Wall time: 557 ms\n"
     ]
    }
   ],
   "source": [
    "%%time\n",
    "n=2\n",
    "rep=array([zeros(n)])\n",
    "rep.shape\n",
    "epsilon=0.5\n",
    "m=10000\n",
    "\n",
    "def source():\n",
    "    while True:\n",
    "        yield (rand(m,n)*2)-1\n",
    "        \n",
    "cover=find_cover(rep,source,epsilon=epsilon)"
   ]
  },
  {
   "cell_type": "code",
   "execution_count": 12,
   "id": "42adc091",
   "metadata": {},
   "outputs": [
    {
     "data": {
      "text/plain": [
       "(15, 2)"
      ]
     },
     "execution_count": 12,
     "metadata": {},
     "output_type": "execute_result"
    }
   ],
   "source": [
    "cover.shape"
   ]
  },
  {
   "cell_type": "code",
   "execution_count": 13,
   "id": "e4455b60",
   "metadata": {},
   "outputs": [
    {
     "data": {
      "text/plain": [
       "<matplotlib.collections.PathCollection at 0x119709c70>"
      ]
     },
     "execution_count": 13,
     "metadata": {},
     "output_type": "execute_result"
    },
    {
     "data": {
      "image/png": "[encoded data removed]",
      "text/plain": [
       "<Figure size 432x288 with 1 Axes>"
      ]
     },
     "metadata": {
      "needs_background": "light"
     },
     "output_type": "display_data"
    }
   ],
   "source": [
    "scatter(cover[:,0],cover[:,1])"
   ]
  },
  {
   "cell_type": "markdown",
   "id": "d09fbb89",
   "metadata": {},
   "source": [
    "### Split Examples"
   ]
  },
  {
   "cell_type": "code",
   "execution_count": 14,
   "id": "55ed3843",
   "metadata": {},
   "outputs": [
    {
     "data": {
      "text/plain": [
       "((6,), (10000, 2))"
      ]
     },
     "execution_count": 14,
     "metadata": {},
     "output_type": "execute_result"
    }
   ],
   "source": [
    "X=source().__next__()\n",
    "\n",
    "\n",
    "index.shape, X.shape"
   ]
  },
  {
   "cell_type": "code",
   "execution_count": 15,
   "id": "4b8a9c6c",
   "metadata": {},
   "outputs": [
    {
     "data": {
      "image/png": "[encoded data removed]",
      "text/plain": [
       "<Figure size 432x288 with 1 Axes>"
      ]
     },
     "metadata": {
      "needs_background": "light"
     },
     "output_type": "display_data"
    }
   ],
   "source": [
    "subset=split(X,cover)\n",
    "\n",
    "for s in subset:\n",
    "    scatter(s[:,0],s[:,1])"
   ]
  },
  {
   "cell_type": "code",
   "execution_count": 16,
   "id": "b3a48439",
   "metadata": {},
   "outputs": [
    {
     "data": {
      "text/plain": [
       "(10000, 2)"
      ]
     },
     "execution_count": 16,
     "metadata": {},
     "output_type": "execute_result"
    }
   ],
   "source": [
    "data=[]\n",
    "j=0\n",
    "for x in source():\n",
    "    break\n",
    "x.shape"
   ]
  },
  {
   "cell_type": "code",
   "execution_count": 17,
   "id": "f108e244",
   "metadata": {},
   "outputs": [],
   "source": [
    "x.dump('square.npy')"
   ]
  },
  {
   "cell_type": "code",
   "execution_count": 18,
   "id": "b07299b9",
   "metadata": {},
   "outputs": [
    {
     "name": "stdout",
     "output_type": "stream",
     "text": [
      "-rw-r--r--  1 robibhatt  staff  249778 Jul 19 09:30 square.npy\n"
     ]
    }
   ],
   "source": [
    "!ls -l square.npy"
   ]
  },
  {
   "cell_type": "code",
   "execution_count": 19,
   "id": "45830eed-486d-4b4a-9c4c-7930ded7689c",
   "metadata": {},
   "outputs": [],
   "source": [
    "import numpy as np\n",
    "from scipy.spatial import distance_matrix\n",
    "from scipy.stats import norm\n",
    "from sklearn.neighbors import BallTree"
   ]
  },
  {
   "cell_type": "code",
   "execution_count": 119,
   "id": "fb286aa7-6812-4900-bd79-f5d106a4c068",
   "metadata": {},
   "outputs": [],
   "source": [
    "class MatrixIterator:\n",
    "    \n",
    "    def __init__(self,centers, source_radius, source, Cg=1.0,sigma=3.0,iterations=200,tolerance=1e-4):\n",
    "        #dim=1    #dimension of space                                                                                                                                                            \n",
    "        #n = 10  #number of samples                                                                                                                                                              \n",
    "        #sigma=0.2  #width of Gaussian                                                                                                                                                           \n",
    "        #iterations=10 # number of iteration of averaging recursion                                                                                                                              \n",
    "        #_tolerance = 1e-4 # stop afteer error is below _tolerance\n",
    "        self.centers=centers\n",
    "        (n, dim) = centers.shape\n",
    "        self.n=n\n",
    "        self.dim = dim\n",
    "        \n",
    "        self.sigma = sigma\n",
    "        self.Cg = Cg\n",
    "        self.iterations=iterations\n",
    "        self.tolerance=tolerance\n",
    "        self.set_sources(source_radius, source)\n",
    "        \n",
    "    def set_sources(self, source_radius, source):\n",
    "        tree = BallTree(self.centers)\n",
    "        print(source)\n",
    "        print(self.centers)\n",
    "        self.ind = tree.query_radius([source], source_radius)[0]\n",
    "\n",
    "    def make_transition_matrix(self):\n",
    "        # compute recursion matrix (W)                                                                                                                                                       \n",
    "        A=distance_matrix(self.centers, self.centers)\n",
    "        Adgacency=norm.pdf(A,scale=self.sigma)\n",
    "        W=Adgacency/(sum(Adgacency,axis=1)+self.Cg)\n",
    "        return W\n",
    "    \n",
    "    def solve(self):\n",
    "        vec = np.zeros(self.n)\n",
    "        np.put(vec, self.ind, 1.)\n",
    "        W = self.make_transition_matrix()\n",
    "        for i in range(self.iterations):\n",
    "            vec = np.dot(W, vec)\n",
    "            np.put(vec, self.ind, 1.)\n",
    "        print(vec)\n"
   ]
  },
  {
   "cell_type": "code",
   "execution_count": 120,
   "id": "a1595bba-b9a9-4e0b-b3a8-cdd761f1c0cc",
   "metadata": {},
   "outputs": [
    {
     "name": "stdout",
     "output_type": "stream",
     "text": [
      "[0. 0.]\n",
      "[[ 0.          0.        ]\n",
      " [ 0.16623511  0.52980661]\n",
      " [-0.01566046 -0.91394672]\n",
      " [-0.88476912 -0.38311261]\n",
      " [-0.38492801  0.69262725]\n",
      " [ 0.66087493  0.10570087]\n",
      " [ 0.56764158 -0.485546  ]\n",
      " [-0.58532054 -0.90048162]\n",
      " [ 0.91330729  0.8765137 ]\n",
      " [-0.92491565  0.54505158]\n",
      " [ 0.99191441 -0.86307636]\n",
      " [-0.30807691 -0.47741306]\n",
      " [-0.55201324  0.13269954]\n",
      " [ 0.42084196  0.98822018]\n",
      " [ 0.49363546 -0.99666032]]\n"
     ]
    }
   ],
   "source": [
    "mat_it = MatrixIterator(cover, 0.1, cover[0])"
   ]
  },
  {
   "cell_type": "code",
   "execution_count": 121,
   "id": "601108f5-cee1-423a-96cb-ded971b2a70a",
   "metadata": {},
   "outputs": [
    {
     "data": {
      "text/plain": [
       "(15, 15)"
      ]
     },
     "execution_count": 121,
     "metadata": {},
     "output_type": "execute_result"
    }
   ],
   "source": [
    "matrix = mat_it.make_transition_matrix()\n",
    "matrix.shape"
   ]
  },
  {
   "cell_type": "code",
   "execution_count": 126,
   "id": "62e8f36e-ffad-406a-aeac-4eda236ed1a1",
   "metadata": {},
   "outputs": [
    {
     "name": "stdout",
     "output_type": "stream",
     "text": [
      "[1.         0.11220049 0.10986079 0.10876303 0.1100555  0.11171849\n",
      " 0.11139137 0.10784135 0.10460722 0.10692629 0.1048805  0.11259529\n",
      " 0.11216692 0.1070063  0.10767516]\n"
     ]
    }
   ],
   "source": [
    "mat_it.solve()"
   ]
  },
  {
   "cell_type": "code",
   "execution_count": 123,
   "id": "e7de7e20-c432-4bda-b262-bee4aa6079e1",
   "metadata": {},
   "outputs": [
    {
     "name": "stdout",
     "output_type": "stream",
     "text": [
      "[[0.04576039 0.04557829 0.04473954 0.04487839 0.04536926 0.04529337\n",
      "  0.04505151 0.04450283 0.04434034 0.04488921 0.0438064  0.04536782\n",
      "  0.04554728 0.0448453  0.04428641]\n",
      " [0.04498322 0.04636574 0.04166399 0.04243324 0.04612563 0.04535228\n",
      "  0.04349209 0.0410423  0.04667613 0.04479382 0.04168597 0.04311536\n",
      "  0.04466709 0.04708886 0.04142959]\n",
      " [0.04368478 0.04121991 0.04686526 0.04461106 0.04039676 0.04272814\n",
      "  0.0451372  0.04659977 0.03866276 0.04061096 0.04557138 0.04548585\n",
      "  0.04294055 0.03869514 0.04674046]\n",
      " [0.04345713 0.04163297 0.04424127 0.04725698 0.04344729 0.04012695\n",
      "  0.04130683 0.04651533 0.03708284 0.04561689 0.03914852 0.04532089\n",
      "  0.04540968 0.03917881 0.04180147]\n",
      " [0.04419163 0.04552271 0.04029824 0.0437036  0.04697983 0.04286889\n",
      "  0.04090606 0.04111625 0.0440535  0.04703156 0.03794172 0.04279217\n",
      "  0.04549895 0.04589646 0.03878293]\n",
      " [0.0446357  0.04528499 0.0431244  0.04083759 0.04337222 0.04643463\n",
      "  0.04555413 0.04114538 0.04672919 0.04117359 0.04549468 0.04302103\n",
      "  0.04272951 0.04564265 0.04427125]\n",
      " [0.04436365 0.04339459 0.04552121 0.04200645 0.04135493 0.04551955\n",
      "  0.04646991 0.04365064 0.04343269 0.03986338 0.04736603 0.04426216\n",
      "  0.0423419  0.04232802 0.04673919]\n",
      " [0.04291998 0.04010615 0.04602746 0.04632808 0.04071056 0.04026663\n",
      "  0.04275084 0.04744799 0.03589929 0.04234008 0.04199466 0.04553697\n",
      "  0.04369758 0.03707313 0.04444319]\n",
      " [0.04186275 0.04465098 0.03738375 0.03615579 0.04270028 0.04476815\n",
      "  0.04164161 0.03514331 0.04846867 0.03942494 0.04074609 0.03839863\n",
      "  0.0399103  0.04714112 0.03865528]\n",
      " [0.04292216 0.04339755 0.03976896 0.04504448 0.04616902 0.03994943\n",
      "  0.03870757 0.04197777 0.03992841 0.04785751 0.03521749 0.04267104\n",
      "  0.04558078 0.04276786 0.03717208]\n",
      " [0.04156983 0.04008096 0.04428883 0.03836474 0.03696404 0.04380802\n",
      "  0.04564465 0.04132025 0.04095416 0.03495099 0.04822242 0.04170361\n",
      "  0.03844168 0.03881431 0.04674072]\n",
      " [0.04494698 0.04328048 0.04615197 0.04636895 0.04352498 0.04324995\n",
      "  0.0445315  0.04677834 0.04029394 0.04421261 0.0435397  0.04618885\n",
      "  0.04527125 0.04120076 0.0450924 ]\n",
      " [0.04494825 0.04466276 0.04339896 0.04627805 0.04609708 0.04278885\n",
      "  0.04243291 0.04471322 0.04171638 0.04704273 0.03997716 0.04509416\n",
      "  0.04637024 0.04355698 0.04158745]\n",
      " [0.04291945 0.04566284 0.03792757 0.03872263 0.04509601 0.04432619\n",
      "  0.04113839 0.03678957 0.04778687 0.04280703 0.03914609 0.03980063\n",
      "  0.04224202 0.04781371 0.03810064]\n",
      " [0.04272124 0.04049408 0.04617722 0.04164293 0.03840924 0.04333587\n",
      "  0.04578642 0.04445358 0.03949605 0.03750168 0.0475147  0.04390603\n",
      "  0.04065232 0.03840329 0.0474369 ]]\n"
     ]
    }
   ],
   "source": [
    "print(matrix)"
   ]
  },
  {
   "cell_type": "code",
   "execution_count": 124,
   "id": "adb2f180-435b-4704-9a57-0de69360e88e",
   "metadata": {},
   "outputs": [
    {
     "data": {
      "text/plain": [
       "array([0.67425633, 0.6609153 , 0.64994999, 0.64154385, 0.6475845 ,\n",
       "       0.65945092, 0.65861431, 0.63754258, 0.61705167, 0.62913211,\n",
       "       0.62186921, 0.66463266, 0.66066518, 0.63027964, 0.63793153])"
      ]
     },
     "execution_count": 124,
     "metadata": {},
     "output_type": "execute_result"
    }
   ],
   "source": [
    "np.dot(matrix, np.ones(mat_it.n))"
   ]
  },
  {
   "cell_type": "code",
   "execution_count": null,
   "id": "9359ad9d-c7c3-4ef3-88c5-d8a4611b07d0",
   "metadata": {},
   "outputs": [],
   "source": []
  }
 ],
 "metadata": {
  "kernelspec": {
   "display_name": "Python 3 (ipykernel)",
   "language": "python",
   "name": "python3"
  },
  "language_info": {
   "codemirror_mode": {
    "name": "ipython",
    "version": 3
   },
   "file_extension": ".py",
   "mimetype": "text/x-python",
   "name": "python",
   "nbconvert_exporter": "python",
   "pygments_lexer": "ipython3",
   "version": "3.9.7"
  },
  "toc": {
   "base_numbering": 1,
   "nav_menu": {},
   "number_sections": true,
   "sideBar": true,
   "skip_h1_title": false,
   "title_cell": "Table of Contents",
   "title_sidebar": "Contents",
   "toc_cell": false,
   "toc_position": {},
   "toc_section_display": true,
   "toc_window_display": false
  }
 },
 "nbformat": 4,
 "nbformat_minor": 5
}
