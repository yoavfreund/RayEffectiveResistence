{
 "cells": [
  {
   "cell_type": "code",
   "execution_count": 1,
   "id": "dd0beb76",
   "metadata": {},
   "outputs": [
    {
     "name": "stdout",
     "output_type": "stream",
     "text": [
      "%pylab is deprecated, use %matplotlib inline and import the required libraries.\n",
      "Populating the interactive namespace from numpy and matplotlib\n"
     ]
    }
   ],
   "source": [
    "%pylab inline\n",
    "from scipy.spatial.distance import cdist"
   ]
  },
  {
   "cell_type": "code",
   "execution_count": 2,
   "id": "1f0aaf76",
   "metadata": {
    "scrolled": true
   },
   "outputs": [],
   "source": [
    "def find_dists(X,rep):\n",
    "    C=cdist(X,rep)\n",
    "    index=argmin(C,axis=1)\n",
    "    dist=np.min(C,axis=1)\n",
    "    return index,dist\n",
    "\n",
    "def find_cover_iter(rep,X,epsilon=1,debug=False) :\n",
    "    m=X.shape[0]\n",
    "    found=False\n",
    "    for i in range(m):\n",
    "        x=X[i:i+1,:]  # can make more efficient by checking several at once and keeping \n",
    "                      # track of the location of the last find.\n",
    "        _,dist=find_dists(x,rep)\n",
    "        if np.min(dist)>epsilon:\n",
    "            if debug:\n",
    "                print(i,np.min(dist),rep.shape)\n",
    "            rep=concatenate([rep,x],axis=0)\n",
    "            found=True\n",
    "    return rep,found\n",
    "\n",
    "def source(m,n):\n",
    "    \" a generator of example batches\"\n",
    "    while True:\n",
    "        yield (rand(m,n)*2)-1\n",
    "\n",
    "def find_cover(rep,source,epsilon=1,debug=False):\n",
    "    found=True; j=0\n",
    "    cover=rep\n",
    "    for X in source():\n",
    "        cover,found=find_cover_iter(cover,X,epsilon=epsilon,debug=debug)\n",
    "        if debug:\n",
    "            print('### round ',j,cover.shape); j+=1\n",
    "        if not found:\n",
    "            break\n",
    "    return cover\n",
    "\n",
    "def split(X,cover):\n",
    "    \"\"\" Partition rows in X according to the cclosest row in cover\"\"\"\n",
    "    index,dist = find_dists(X,cover)\n",
    "    \n",
    "    subset=[]\n",
    "    for i in range(cover.shape[0]):\n",
    "        s=X[nonzero(index==i),:]\n",
    "        subset.append(s[0,:,:])\n",
    "    return subset"
   ]
  },
  {
   "cell_type": "code",
   "execution_count": 3,
   "id": "67e8529e",
   "metadata": {
    "scrolled": true
   },
   "outputs": [
    {
     "data": {
      "text/plain": [
       "(6, 2)"
      ]
     },
     "execution_count": 3,
     "metadata": {},
     "output_type": "execute_result"
    }
   ],
   "source": [
    "n=2;\n",
    "m=3\n",
    "rep=eye(n)\n",
    "X=concatenate([eye(n)*(1+0.1*i) for i in range(m)],axis=0)\n",
    "X.shape"
   ]
  },
  {
   "cell_type": "code",
   "execution_count": 4,
   "id": "e1e3ccd0",
   "metadata": {},
   "outputs": [
    {
     "data": {
      "text/plain": [
       "array([[1. , 0. ],\n",
       "       [0. , 1. ],\n",
       "       [1.1, 0. ],\n",
       "       [0. , 1.1],\n",
       "       [1.2, 0. ],\n",
       "       [0. , 1.2]])"
      ]
     },
     "execution_count": 4,
     "metadata": {},
     "output_type": "execute_result"
    }
   ],
   "source": [
    "X"
   ]
  },
  {
   "cell_type": "code",
   "execution_count": 5,
   "id": "ad3f95e9",
   "metadata": {},
   "outputs": [],
   "source": [
    "index,dist = find_dists(X,rep)"
   ]
  },
  {
   "cell_type": "code",
   "execution_count": 6,
   "id": "054dfd04",
   "metadata": {},
   "outputs": [
    {
     "data": {
      "text/plain": [
       "array([0, 1, 0, 1, 0, 1])"
      ]
     },
     "execution_count": 6,
     "metadata": {},
     "output_type": "execute_result"
    }
   ],
   "source": [
    "index"
   ]
  },
  {
   "cell_type": "code",
   "execution_count": 7,
   "id": "21416aff",
   "metadata": {},
   "outputs": [
    {
     "data": {
      "text/plain": [
       "array([0. , 0. , 0.1, 0.1, 0.2, 0.2])"
      ]
     },
     "execution_count": 7,
     "metadata": {},
     "output_type": "execute_result"
    }
   ],
   "source": [
    "dist"
   ]
  },
  {
   "cell_type": "markdown",
   "id": "f5ff2508",
   "metadata": {},
   "source": [
    "### finding a cover"
   ]
  },
  {
   "cell_type": "code",
   "execution_count": 27,
   "id": "b5652a09",
   "metadata": {},
   "outputs": [
    {
     "name": "stdout",
     "output_type": "stream",
     "text": [
      "CPU times: user 236 ms, sys: 8.65 ms, total: 244 ms\n",
      "Wall time: 248 ms\n"
     ]
    }
   ],
   "source": [
    "%%time\n",
    "n=2\n",
    "rep=array([zeros(n)])\n",
    "rep.shape\n",
    "epsilon=0.2\n",
    "m=10000\n",
    "\n",
    "def source():\n",
    "    while True:\n",
    "        yield (rand(m,n)*2)-1\n",
    "        \n",
    "cover=find_cover(rep,source,epsilon=epsilon)"
   ]
  },
  {
   "cell_type": "code",
   "execution_count": 28,
   "id": "42adc091",
   "metadata": {},
   "outputs": [
    {
     "data": {
      "text/plain": [
       "(78, 2)"
      ]
     },
     "execution_count": 28,
     "metadata": {},
     "output_type": "execute_result"
    }
   ],
   "source": [
    "cover.shape"
   ]
  },
  {
   "cell_type": "code",
   "execution_count": 29,
   "id": "e4455b60",
   "metadata": {},
   "outputs": [
    {
     "data": {
      "text/plain": [
       "<matplotlib.collections.PathCollection at 0x12fe5a5b0>"
      ]
     },
     "execution_count": 29,
     "metadata": {},
     "output_type": "execute_result"
    },
    {
     "data": {
      "image/png": "[encoded data removed]",
      "text/plain": [
       "<Figure size 432x288 with 1 Axes>"
      ]
     },
     "metadata": {
      "needs_background": "light"
     },
     "output_type": "display_data"
    }
   ],
   "source": [
    "scatter(cover[:,0],cover[:,1])"
   ]
  },
  {
   "cell_type": "markdown",
   "id": "d09fbb89",
   "metadata": {},
   "source": [
    "### Split Examples"
   ]
  },
  {
   "cell_type": "code",
   "execution_count": 11,
   "id": "55ed3843",
   "metadata": {},
   "outputs": [
    {
     "data": {
      "text/plain": [
       "((6,), (10000, 2))"
      ]
     },
     "execution_count": 11,
     "metadata": {},
     "output_type": "execute_result"
    }
   ],
   "source": [
    "X=source().__next__()\n",
    "\n",
    "\n",
    "index.shape, X.shape"
   ]
  },
  {
   "cell_type": "code",
   "execution_count": 30,
   "id": "4b8a9c6c",
   "metadata": {},
   "outputs": [
    {
     "data": {
      "image/png": "[encoded data removed]",
      "text/plain": [
       "<Figure size 432x288 with 1 Axes>"
      ]
     },
     "metadata": {
      "needs_background": "light"
     },
     "output_type": "display_data"
    }
   ],
   "source": [
    "subset=split(X,cover)\n",
    "\n",
    "for s in subset:\n",
    "    scatter(s[:,0],s[:,1])"
   ]
  },
  {
   "cell_type": "code",
   "execution_count": 13,
   "id": "b3a48439",
   "metadata": {},
   "outputs": [
    {
     "data": {
      "text/plain": [
       "(10000, 2)"
      ]
     },
     "execution_count": 13,
     "metadata": {},
     "output_type": "execute_result"
    }
   ],
   "source": [
    "data=[]\n",
    "j=0\n",
    "for x in source():\n",
    "    break\n",
    "x.shape"
   ]
  },
  {
   "cell_type": "code",
   "execution_count": 14,
   "id": "f108e244",
   "metadata": {},
   "outputs": [],
   "source": [
    "x.dump('square.npy')"
   ]
  },
  {
   "cell_type": "code",
   "execution_count": 15,
   "id": "b07299b9",
   "metadata": {},
   "outputs": [
    {
     "name": "stdout",
     "output_type": "stream",
     "text": [
      "-rw-r--r--  1 yoavfreund  staff  250285 Jul 19 12:26 square.npy\r\n"
     ]
    }
   ],
   "source": [
    "!ls -l square.npy"
   ]
  },
  {
   "cell_type": "code",
   "execution_count": 16,
   "id": "45830eed-486d-4b4a-9c4c-7930ded7689c",
   "metadata": {},
   "outputs": [],
   "source": [
    "import numpy as np\n",
    "from scipy.spatial import distance_matrix\n",
    "from scipy.stats import norm\n",
    "from sklearn.neighbors import BallTree"
   ]
  },
  {
   "cell_type": "code",
   "execution_count": 39,
   "id": "fb286aa7-6812-4900-bd79-f5d106a4c068",
   "metadata": {},
   "outputs": [],
   "source": [
    "class MatrixIterator:\n",
    "    \n",
    "    def __init__(self,centers, source_radius, source, Cg=1.0,sigma=0.5,iterations=1000,tolerance=1e-4):\n",
    "        #dim=1    #dimension of space                                                                                                                                                            \n",
    "        #n = 10  #number of samples                                                                                                                                                              \n",
    "        #sigma=0.2  #width of Gaussian                                                                                                                                                           \n",
    "        #iterations=10 # number of iteration of averaging recursion                                                                                                                              \n",
    "        #_tolerance = 1e-4 # stop afteer error is below _tolerance\n",
    "        self.centers=centers\n",
    "        (n, dim) = centers.shape\n",
    "        self.n=n\n",
    "        self.dim = dim\n",
    "        \n",
    "        self.sigma = sigma\n",
    "        self.Cg = Cg\n",
    "        self.iterations=iterations\n",
    "        self.tolerance=tolerance\n",
    "        self.set_sources(source_radius, source)\n",
    "        \n",
    "    def set_sources(self, source_radius, source):\n",
    "        tree = BallTree(self.centers)\n",
    "        print(source)\n",
    "        print(self.centers)\n",
    "        self.ind = tree.query_radius([source], source_radius)[0]\n",
    "\n",
    "    def make_transition_matrix(self):\n",
    "        # compute recursion matrix (W)                                                                                                                                                       \n",
    "        A=distance_matrix(self.centers, self.centers)\n",
    "        Adgacency=norm.pdf(A,scale=self.sigma)\n",
    "        W=Adgacency/(sum(Adgacency,axis=1)+self.Cg)\n",
    "        return W\n",
    "    \n",
    "    def solve(self):\n",
    "        vec = np.zeros(self.n)\n",
    "        np.put(vec, self.ind, 1.)\n",
    "        W = self.make_transition_matrix()\n",
    "        for i in range(self.iterations):\n",
    "            vec = np.dot(W, vec)\n",
    "            np.put(vec, self.ind, 1.)\n",
    "        return vec\n"
   ]
  },
  {
   "cell_type": "code",
   "execution_count": 40,
   "id": "a1595bba-b9a9-4e0b-b3a8-cdd761f1c0cc",
   "metadata": {},
   "outputs": [
    {
     "name": "stdout",
     "output_type": "stream",
     "text": [
      "[0. 0.]\n",
      "[[ 0.          0.        ]\n",
      " [-0.90298399  0.41143435]\n",
      " [ 0.1642206  -0.58949859]\n",
      " [-0.73276624  0.76885212]\n",
      " [-0.84610395  0.20567318]\n",
      " [ 0.28041575  0.07862435]\n",
      " [-0.44461115  0.7209833 ]\n",
      " [ 0.14928662 -0.29436042]\n",
      " [ 0.02935033  0.22578508]\n",
      " [ 0.3384806  -0.21438436]\n",
      " [-0.29796515 -0.23074853]\n",
      " [ 0.87215592 -0.60190516]\n",
      " [-0.21988448  0.19221719]\n",
      " [ 0.21725354  0.72160224]\n",
      " [-0.15775941  0.77000622]\n",
      " [-0.36439109 -0.73381564]\n",
      " [ 0.87353516  0.7230482 ]\n",
      " [-0.87373564  0.6229739 ]\n",
      " [-0.65714269 -0.83818925]\n",
      " [-0.57751421 -0.17809584]\n",
      " [ 0.4887696  -0.96383429]\n",
      " [ 0.03159228 -0.80792459]\n",
      " [ 0.21591477 -0.96477652]\n",
      " [ 0.75236758 -0.19568512]\n",
      " [ 0.84453125  0.05918911]\n",
      " [-0.89677085 -0.0190313 ]\n",
      " [-0.99520083 -0.9364965 ]\n",
      " [-0.84671777 -0.5843253 ]\n",
      " [ 0.96580966  0.97177587]\n",
      " [-0.50886373 -0.55313005]\n",
      " [ 0.33506739  0.32667129]\n",
      " [-0.71242941 -0.36485993]\n",
      " [ 0.58652306  0.86871468]\n",
      " [ 0.69831398  0.26741113]\n",
      " [ 0.77751757 -0.8106528 ]\n",
      " [-0.51959754  0.42157516]\n",
      " [ 0.6641709  -0.55146782]\n",
      " [-0.50506361  0.92460832]\n",
      " [ 0.89436832 -0.34558671]\n",
      " [-0.35109706  0.00651723]\n",
      " [-0.08008069 -0.41133785]\n",
      " [ 0.01143533  0.94889614]\n",
      " [ 0.44516492  0.51396872]\n",
      " [-0.99115677 -0.36046612]\n",
      " [ 0.59468002 -0.0061139 ]\n",
      " [-0.0393475   0.55673104]\n",
      " [-0.93803588  0.9886493 ]\n",
      " [-0.28354785 -0.4314305 ]\n",
      " [-0.29141842  0.40675952]\n",
      " [ 0.22011953  0.96329385]\n",
      " [-0.59861738  0.05739844]\n",
      " [ 0.20639846  0.51277098]\n",
      " [ 0.74912839  0.50427151]\n",
      " [ 0.2853871  -0.77444959]\n",
      " [ 0.36342632 -0.53812198]\n",
      " [-0.14924549 -0.97538045]\n",
      " [-0.14952339 -0.67455818]\n",
      " [ 0.52386714 -0.39456329]\n",
      " [ 0.90709878 -0.96445318]\n",
      " [ 0.95225041  0.52520982]\n",
      " [-0.61859799  0.59944579]\n",
      " [-0.45114861 -0.97837852]\n",
      " [ 0.98053001  0.31384346]\n",
      " [ 0.98497056 -0.76753176]\n",
      " [ 0.53096545 -0.76320695]\n",
      " [-0.99852006  0.78909062]\n",
      " [ 0.50637307  0.20741735]\n",
      " [-0.24197083  0.96790046]\n",
      " [ 0.980371   -0.15757152]\n",
      " [ 0.39081186  0.82343413]\n",
      " [-0.64970508  0.25231486]\n",
      " [-0.07020618 -0.19436133]\n",
      " [-0.72243435  0.98129087]\n",
      " [ 0.63525068  0.66982415]\n",
      " [-0.42785983  0.22818223]\n",
      " [-0.98629393 -0.72983069]\n",
      " [ 0.76614798  0.99110124]\n",
      " [-0.80157681 -0.98921661]]\n",
      "CPU times: user 4.9 ms, sys: 1.33 ms, total: 6.24 ms\n",
      "Wall time: 8.78 ms\n"
     ]
    }
   ],
   "source": [
    "%%time\n",
    "mat_it = MatrixIterator(cover, 0.1, cover[0])"
   ]
  },
  {
   "cell_type": "code",
   "execution_count": 41,
   "id": "601108f5-cee1-423a-96cb-ded971b2a70a",
   "metadata": {},
   "outputs": [
    {
     "data": {
      "text/plain": [
       "(78, 78)"
      ]
     },
     "execution_count": 41,
     "metadata": {},
     "output_type": "execute_result"
    }
   ],
   "source": [
    "matrix = mat_it.make_transition_matrix()\n",
    "matrix.shape"
   ]
  },
  {
   "cell_type": "code",
   "execution_count": 42,
   "id": "62e8f36e-ffad-406a-aeac-4eda236ed1a1",
   "metadata": {},
   "outputs": [],
   "source": [
    "voltages = mat_it.solve()"
   ]
  },
  {
   "cell_type": "code",
   "execution_count": 44,
   "id": "0a945c44",
   "metadata": {},
   "outputs": [
    {
     "data": {
      "text/plain": [
       "array([1.        , 0.1205876 , 0.17836086, 0.11774601, 0.13548481,\n",
       "       0.21354415, 0.14877914, 0.21075524, 0.21888247, 0.20394228,\n",
       "       0.2050299 , 0.11196934, 0.21515377, 0.15812806, 0.15301621,\n",
       "       0.14451749, 0.10352767, 0.11356357, 0.1071666 , 0.17528501,\n",
       "       0.10677799, 0.14588151, 0.11688253, 0.15172876, 0.13916083,\n",
       "       0.12602893, 0.06521577, 0.11033894, 0.06951204, 0.15526831,\n",
       "       0.1976646 , 0.14486337, 0.11573034, 0.15863869, 0.10404064,\n",
       "       0.17482495, 0.14371737, 0.11530033, 0.12336526, 0.20851377,\n",
       "       0.20124191, 0.1233222 , 0.17170963, 0.10061334, 0.17903183,\n",
       "       0.18645912, 0.07325471, 0.18906984, 0.19590031, 0.11807733,\n",
       "       0.17754626, 0.18739243, 0.1380425 , 0.14663825, 0.1749089 ,\n",
       "       0.11440956, 0.16440068, 0.17356588, 0.07416565, 0.10709831,\n",
       "       0.14805802, 0.10247678, 0.11149722, 0.08400054, 0.13334421,\n",
       "       0.08441983, 0.18708426, 0.1179037 , 0.11401453, 0.13486565,\n",
       "       0.16684543, 0.21927132, 0.09282184, 0.13654779, 0.1965303 ,\n",
       "       0.08184996, 0.08529553, 0.07727447])"
      ]
     },
     "execution_count": 44,
     "metadata": {},
     "output_type": "execute_result"
    }
   ],
   "source": [
    "voltages"
   ]
  },
  {
   "cell_type": "code",
   "execution_count": 48,
   "id": "9b8205fa",
   "metadata": {
    "scrolled": true
   },
   "outputs": [
    {
     "data": {
      "text/plain": [
       "(10000, 2)"
      ]
     },
     "execution_count": 48,
     "metadata": {},
     "output_type": "execute_result"
    }
   ],
   "source": [
    "subset=split(X,cover)\n",
    "i = 0\n",
    "colors=[int(voltages[*30) for x in voltages]\n",
    "X.shape"
   ]
  },
  {
   "cell_type": "code",
   "execution_count": 50,
   "id": "0ae31f54",
   "metadata": {},
   "outputs": [
    {
     "data": {
      "text/plain": [
       "<matplotlib.collections.PathCollection at 0x148f91430>"
      ]
     },
     "execution_count": 50,
     "metadata": {},
     "output_type": "execute_result"
    },
    {
     "data": {
      "image/png": "[encoded data removed]",
      "text/plain": [
       "<Figure size 432x288 with 1 Axes>"
      ]
     },
     "metadata": {
      "needs_background": "light"
     },
     "output_type": "display_data"
    }
   ],
   "source": [
    "scatter(X[:,0],X[:,1])"
   ]
  },
  {
   "cell_type": "code",
   "execution_count": 45,
   "id": "9359ad9d-c7c3-4ef3-88c5-d8a4611b07d0",
   "metadata": {},
   "outputs": [
    {
     "ename": "ValueError",
     "evalue": "'c' argument has 1 elements, which is inconsistent with 'x' and 'y' with size 156.",
     "output_type": "error",
     "traceback": [
      "\u001b[0;31m---------------------------------------------------------------------------\u001b[0m",
      "\u001b[0;31mTypeError\u001b[0m                                 Traceback (most recent call last)",
      "File \u001b[0;32m~/miniforge3/lib/python3.9/site-packages/matplotlib/axes/_axes.py:4221\u001b[0m, in \u001b[0;36mAxes._parse_scatter_color_args\u001b[0;34m(c, edgecolors, kwargs, xsize, get_next_color_func)\u001b[0m\n\u001b[1;32m   4220\u001b[0m \u001b[38;5;28;01mtry\u001b[39;00m:  \u001b[38;5;66;03m# Is 'c' acceptable as PathCollection facecolors?\u001b[39;00m\n\u001b[0;32m-> 4221\u001b[0m     colors \u001b[38;5;241m=\u001b[39m \u001b[43mmcolors\u001b[49m\u001b[38;5;241;43m.\u001b[39;49m\u001b[43mto_rgba_array\u001b[49m\u001b[43m(\u001b[49m\u001b[43mc\u001b[49m\u001b[43m)\u001b[49m\n\u001b[1;32m   4222\u001b[0m \u001b[38;5;28;01mexcept\u001b[39;00m (\u001b[38;5;167;01mTypeError\u001b[39;00m, \u001b[38;5;167;01mValueError\u001b[39;00m) \u001b[38;5;28;01mas\u001b[39;00m err:\n",
      "File \u001b[0;32m~/miniforge3/lib/python3.9/site-packages/matplotlib/colors.py:363\u001b[0m, in \u001b[0;36mto_rgba_array\u001b[0;34m(c, alpha)\u001b[0m\n\u001b[1;32m    359\u001b[0m     \u001b[38;5;28;01mraise\u001b[39;00m \u001b[38;5;167;01mValueError\u001b[39;00m(\u001b[38;5;124m\"\u001b[39m\u001b[38;5;124mUsing a string of single character colors as \u001b[39m\u001b[38;5;124m\"\u001b[39m\n\u001b[1;32m    360\u001b[0m                      \u001b[38;5;124m\"\u001b[39m\u001b[38;5;124ma color sequence is not supported. The colors can \u001b[39m\u001b[38;5;124m\"\u001b[39m\n\u001b[1;32m    361\u001b[0m                      \u001b[38;5;124m\"\u001b[39m\u001b[38;5;124mbe passed as an explicit list instead.\u001b[39m\u001b[38;5;124m\"\u001b[39m)\n\u001b[0;32m--> 363\u001b[0m \u001b[38;5;28;01mif\u001b[39;00m \u001b[38;5;28;43mlen\u001b[39;49m\u001b[43m(\u001b[49m\u001b[43mc\u001b[49m\u001b[43m)\u001b[49m \u001b[38;5;241m==\u001b[39m \u001b[38;5;241m0\u001b[39m:\n\u001b[1;32m    364\u001b[0m     \u001b[38;5;28;01mreturn\u001b[39;00m np\u001b[38;5;241m.\u001b[39mzeros((\u001b[38;5;241m0\u001b[39m, \u001b[38;5;241m4\u001b[39m), \u001b[38;5;28mfloat\u001b[39m)\n",
      "\u001b[0;31mTypeError\u001b[0m: len() of unsized object",
      "\nThe above exception was the direct cause of the following exception:\n",
      "\u001b[0;31mValueError\u001b[0m                                Traceback (most recent call last)",
      "Input \u001b[0;32mIn [45]\u001b[0m, in \u001b[0;36m<cell line: 4>\u001b[0;34m()\u001b[0m\n\u001b[1;32m      3\u001b[0m volts \u001b[38;5;241m=\u001b[39m \u001b[38;5;28mlist\u001b[39m(voltages)\n\u001b[1;32m      4\u001b[0m \u001b[38;5;28;01mfor\u001b[39;00m s \u001b[38;5;129;01min\u001b[39;00m subset:\n\u001b[0;32m----> 5\u001b[0m     \u001b[43mscatter\u001b[49m\u001b[43m(\u001b[49m\u001b[43ms\u001b[49m\u001b[43m[\u001b[49m\u001b[43m:\u001b[49m\u001b[43m,\u001b[49m\u001b[38;5;241;43m0\u001b[39;49m\u001b[43m]\u001b[49m\u001b[43m,\u001b[49m\u001b[43ms\u001b[49m\u001b[43m[\u001b[49m\u001b[43m:\u001b[49m\u001b[43m,\u001b[49m\u001b[38;5;241;43m1\u001b[39;49m\u001b[43m]\u001b[49m\u001b[43m,\u001b[49m\u001b[43mc\u001b[49m\u001b[38;5;241;43m=\u001b[39;49m\u001b[43m \u001b[49m\u001b[43mvolts\u001b[49m\u001b[43m[\u001b[49m\u001b[43mi\u001b[49m\u001b[43m]\u001b[49m\u001b[43m)\u001b[49m\n\u001b[1;32m      6\u001b[0m     i\u001b[38;5;241m+\u001b[39m\u001b[38;5;241m=\u001b[39m\u001b[38;5;241m1\u001b[39m\n",
      "File \u001b[0;32m~/miniforge3/lib/python3.9/site-packages/matplotlib/pyplot.py:2807\u001b[0m, in \u001b[0;36mscatter\u001b[0;34m(x, y, s, c, marker, cmap, norm, vmin, vmax, alpha, linewidths, edgecolors, plotnonfinite, data, **kwargs)\u001b[0m\n\u001b[1;32m   2802\u001b[0m \u001b[38;5;129m@_copy_docstring_and_deprecators\u001b[39m(Axes\u001b[38;5;241m.\u001b[39mscatter)\n\u001b[1;32m   2803\u001b[0m \u001b[38;5;28;01mdef\u001b[39;00m \u001b[38;5;21mscatter\u001b[39m(\n\u001b[1;32m   2804\u001b[0m         x, y, s\u001b[38;5;241m=\u001b[39m\u001b[38;5;28;01mNone\u001b[39;00m, c\u001b[38;5;241m=\u001b[39m\u001b[38;5;28;01mNone\u001b[39;00m, marker\u001b[38;5;241m=\u001b[39m\u001b[38;5;28;01mNone\u001b[39;00m, cmap\u001b[38;5;241m=\u001b[39m\u001b[38;5;28;01mNone\u001b[39;00m, norm\u001b[38;5;241m=\u001b[39m\u001b[38;5;28;01mNone\u001b[39;00m,\n\u001b[1;32m   2805\u001b[0m         vmin\u001b[38;5;241m=\u001b[39m\u001b[38;5;28;01mNone\u001b[39;00m, vmax\u001b[38;5;241m=\u001b[39m\u001b[38;5;28;01mNone\u001b[39;00m, alpha\u001b[38;5;241m=\u001b[39m\u001b[38;5;28;01mNone\u001b[39;00m, linewidths\u001b[38;5;241m=\u001b[39m\u001b[38;5;28;01mNone\u001b[39;00m, \u001b[38;5;241m*\u001b[39m,\n\u001b[1;32m   2806\u001b[0m         edgecolors\u001b[38;5;241m=\u001b[39m\u001b[38;5;28;01mNone\u001b[39;00m, plotnonfinite\u001b[38;5;241m=\u001b[39m\u001b[38;5;28;01mFalse\u001b[39;00m, data\u001b[38;5;241m=\u001b[39m\u001b[38;5;28;01mNone\u001b[39;00m, \u001b[38;5;241m*\u001b[39m\u001b[38;5;241m*\u001b[39mkwargs):\n\u001b[0;32m-> 2807\u001b[0m     __ret \u001b[38;5;241m=\u001b[39m \u001b[43mgca\u001b[49m\u001b[43m(\u001b[49m\u001b[43m)\u001b[49m\u001b[38;5;241;43m.\u001b[39;49m\u001b[43mscatter\u001b[49m\u001b[43m(\u001b[49m\n\u001b[1;32m   2808\u001b[0m \u001b[43m        \u001b[49m\u001b[43mx\u001b[49m\u001b[43m,\u001b[49m\u001b[43m \u001b[49m\u001b[43my\u001b[49m\u001b[43m,\u001b[49m\u001b[43m \u001b[49m\u001b[43ms\u001b[49m\u001b[38;5;241;43m=\u001b[39;49m\u001b[43ms\u001b[49m\u001b[43m,\u001b[49m\u001b[43m \u001b[49m\u001b[43mc\u001b[49m\u001b[38;5;241;43m=\u001b[39;49m\u001b[43mc\u001b[49m\u001b[43m,\u001b[49m\u001b[43m \u001b[49m\u001b[43mmarker\u001b[49m\u001b[38;5;241;43m=\u001b[39;49m\u001b[43mmarker\u001b[49m\u001b[43m,\u001b[49m\u001b[43m \u001b[49m\u001b[43mcmap\u001b[49m\u001b[38;5;241;43m=\u001b[39;49m\u001b[43mcmap\u001b[49m\u001b[43m,\u001b[49m\u001b[43m \u001b[49m\u001b[43mnorm\u001b[49m\u001b[38;5;241;43m=\u001b[39;49m\u001b[43mnorm\u001b[49m\u001b[43m,\u001b[49m\n\u001b[1;32m   2809\u001b[0m \u001b[43m        \u001b[49m\u001b[43mvmin\u001b[49m\u001b[38;5;241;43m=\u001b[39;49m\u001b[43mvmin\u001b[49m\u001b[43m,\u001b[49m\u001b[43m \u001b[49m\u001b[43mvmax\u001b[49m\u001b[38;5;241;43m=\u001b[39;49m\u001b[43mvmax\u001b[49m\u001b[43m,\u001b[49m\u001b[43m \u001b[49m\u001b[43malpha\u001b[49m\u001b[38;5;241;43m=\u001b[39;49m\u001b[43malpha\u001b[49m\u001b[43m,\u001b[49m\u001b[43m \u001b[49m\u001b[43mlinewidths\u001b[49m\u001b[38;5;241;43m=\u001b[39;49m\u001b[43mlinewidths\u001b[49m\u001b[43m,\u001b[49m\n\u001b[1;32m   2810\u001b[0m \u001b[43m        \u001b[49m\u001b[43medgecolors\u001b[49m\u001b[38;5;241;43m=\u001b[39;49m\u001b[43medgecolors\u001b[49m\u001b[43m,\u001b[49m\u001b[43m \u001b[49m\u001b[43mplotnonfinite\u001b[49m\u001b[38;5;241;43m=\u001b[39;49m\u001b[43mplotnonfinite\u001b[49m\u001b[43m,\u001b[49m\n\u001b[1;32m   2811\u001b[0m \u001b[43m        \u001b[49m\u001b[38;5;241;43m*\u001b[39;49m\u001b[38;5;241;43m*\u001b[39;49m\u001b[43m(\u001b[49m\u001b[43m{\u001b[49m\u001b[38;5;124;43m\"\u001b[39;49m\u001b[38;5;124;43mdata\u001b[39;49m\u001b[38;5;124;43m\"\u001b[39;49m\u001b[43m:\u001b[49m\u001b[43m \u001b[49m\u001b[43mdata\u001b[49m\u001b[43m}\u001b[49m\u001b[43m \u001b[49m\u001b[38;5;28;43;01mif\u001b[39;49;00m\u001b[43m \u001b[49m\u001b[43mdata\u001b[49m\u001b[43m \u001b[49m\u001b[38;5;129;43;01mis\u001b[39;49;00m\u001b[43m \u001b[49m\u001b[38;5;129;43;01mnot\u001b[39;49;00m\u001b[43m \u001b[49m\u001b[38;5;28;43;01mNone\u001b[39;49;00m\u001b[43m \u001b[49m\u001b[38;5;28;43;01melse\u001b[39;49;00m\u001b[43m \u001b[49m\u001b[43m{\u001b[49m\u001b[43m}\u001b[49m\u001b[43m)\u001b[49m\u001b[43m,\u001b[49m\u001b[43m \u001b[49m\u001b[38;5;241;43m*\u001b[39;49m\u001b[38;5;241;43m*\u001b[39;49m\u001b[43mkwargs\u001b[49m\u001b[43m)\u001b[49m\n\u001b[1;32m   2812\u001b[0m     sci(__ret)\n\u001b[1;32m   2813\u001b[0m     \u001b[38;5;28;01mreturn\u001b[39;00m __ret\n",
      "File \u001b[0;32m~/miniforge3/lib/python3.9/site-packages/matplotlib/__init__.py:1412\u001b[0m, in \u001b[0;36m_preprocess_data.<locals>.inner\u001b[0;34m(ax, data, *args, **kwargs)\u001b[0m\n\u001b[1;32m   1409\u001b[0m \u001b[38;5;129m@functools\u001b[39m\u001b[38;5;241m.\u001b[39mwraps(func)\n\u001b[1;32m   1410\u001b[0m \u001b[38;5;28;01mdef\u001b[39;00m \u001b[38;5;21minner\u001b[39m(ax, \u001b[38;5;241m*\u001b[39margs, data\u001b[38;5;241m=\u001b[39m\u001b[38;5;28;01mNone\u001b[39;00m, \u001b[38;5;241m*\u001b[39m\u001b[38;5;241m*\u001b[39mkwargs):\n\u001b[1;32m   1411\u001b[0m     \u001b[38;5;28;01mif\u001b[39;00m data \u001b[38;5;129;01mis\u001b[39;00m \u001b[38;5;28;01mNone\u001b[39;00m:\n\u001b[0;32m-> 1412\u001b[0m         \u001b[38;5;28;01mreturn\u001b[39;00m \u001b[43mfunc\u001b[49m\u001b[43m(\u001b[49m\u001b[43max\u001b[49m\u001b[43m,\u001b[49m\u001b[43m \u001b[49m\u001b[38;5;241;43m*\u001b[39;49m\u001b[38;5;28;43mmap\u001b[39;49m\u001b[43m(\u001b[49m\u001b[43msanitize_sequence\u001b[49m\u001b[43m,\u001b[49m\u001b[43m \u001b[49m\u001b[43margs\u001b[49m\u001b[43m)\u001b[49m\u001b[43m,\u001b[49m\u001b[43m \u001b[49m\u001b[38;5;241;43m*\u001b[39;49m\u001b[38;5;241;43m*\u001b[39;49m\u001b[43mkwargs\u001b[49m\u001b[43m)\u001b[49m\n\u001b[1;32m   1414\u001b[0m     bound \u001b[38;5;241m=\u001b[39m new_sig\u001b[38;5;241m.\u001b[39mbind(ax, \u001b[38;5;241m*\u001b[39margs, \u001b[38;5;241m*\u001b[39m\u001b[38;5;241m*\u001b[39mkwargs)\n\u001b[1;32m   1415\u001b[0m     auto_label \u001b[38;5;241m=\u001b[39m (bound\u001b[38;5;241m.\u001b[39marguments\u001b[38;5;241m.\u001b[39mget(label_namer)\n\u001b[1;32m   1416\u001b[0m                   \u001b[38;5;129;01mor\u001b[39;00m bound\u001b[38;5;241m.\u001b[39mkwargs\u001b[38;5;241m.\u001b[39mget(label_namer))\n",
      "File \u001b[0;32m~/miniforge3/lib/python3.9/site-packages/matplotlib/axes/_axes.py:4387\u001b[0m, in \u001b[0;36mAxes.scatter\u001b[0;34m(self, x, y, s, c, marker, cmap, norm, vmin, vmax, alpha, linewidths, edgecolors, plotnonfinite, **kwargs)\u001b[0m\n\u001b[1;32m   4384\u001b[0m \u001b[38;5;28;01mif\u001b[39;00m edgecolors \u001b[38;5;129;01mis\u001b[39;00m \u001b[38;5;28;01mNone\u001b[39;00m:\n\u001b[1;32m   4385\u001b[0m     orig_edgecolor \u001b[38;5;241m=\u001b[39m kwargs\u001b[38;5;241m.\u001b[39mget(\u001b[38;5;124m'\u001b[39m\u001b[38;5;124medgecolor\u001b[39m\u001b[38;5;124m'\u001b[39m, \u001b[38;5;28;01mNone\u001b[39;00m)\n\u001b[1;32m   4386\u001b[0m c, colors, edgecolors \u001b[38;5;241m=\u001b[39m \\\n\u001b[0;32m-> 4387\u001b[0m     \u001b[38;5;28;43mself\u001b[39;49m\u001b[38;5;241;43m.\u001b[39;49m\u001b[43m_parse_scatter_color_args\u001b[49m\u001b[43m(\u001b[49m\n\u001b[1;32m   4388\u001b[0m \u001b[43m        \u001b[49m\u001b[43mc\u001b[49m\u001b[43m,\u001b[49m\u001b[43m \u001b[49m\u001b[43medgecolors\u001b[49m\u001b[43m,\u001b[49m\u001b[43m \u001b[49m\u001b[43mkwargs\u001b[49m\u001b[43m,\u001b[49m\u001b[43m \u001b[49m\u001b[43mx\u001b[49m\u001b[38;5;241;43m.\u001b[39;49m\u001b[43msize\u001b[49m\u001b[43m,\u001b[49m\n\u001b[1;32m   4389\u001b[0m \u001b[43m        \u001b[49m\u001b[43mget_next_color_func\u001b[49m\u001b[38;5;241;43m=\u001b[39;49m\u001b[38;5;28;43mself\u001b[39;49m\u001b[38;5;241;43m.\u001b[39;49m\u001b[43m_get_patches_for_fill\u001b[49m\u001b[38;5;241;43m.\u001b[39;49m\u001b[43mget_next_color\u001b[49m\u001b[43m)\u001b[49m\n\u001b[1;32m   4391\u001b[0m \u001b[38;5;28;01mif\u001b[39;00m plotnonfinite \u001b[38;5;129;01mand\u001b[39;00m colors \u001b[38;5;129;01mis\u001b[39;00m \u001b[38;5;28;01mNone\u001b[39;00m:\n\u001b[1;32m   4392\u001b[0m     c \u001b[38;5;241m=\u001b[39m np\u001b[38;5;241m.\u001b[39mma\u001b[38;5;241m.\u001b[39mmasked_invalid(c)\n",
      "File \u001b[0;32m~/miniforge3/lib/python3.9/site-packages/matplotlib/axes/_axes.py:4227\u001b[0m, in \u001b[0;36mAxes._parse_scatter_color_args\u001b[0;34m(c, edgecolors, kwargs, xsize, get_next_color_func)\u001b[0m\n\u001b[1;32m   4225\u001b[0m \u001b[38;5;28;01melse\u001b[39;00m:\n\u001b[1;32m   4226\u001b[0m     \u001b[38;5;28;01mif\u001b[39;00m \u001b[38;5;129;01mnot\u001b[39;00m valid_shape:\n\u001b[0;32m-> 4227\u001b[0m         \u001b[38;5;28;01mraise\u001b[39;00m invalid_shape_exception(c\u001b[38;5;241m.\u001b[39msize, xsize) \u001b[38;5;28;01mfrom\u001b[39;00m \u001b[38;5;21;01merr\u001b[39;00m\n\u001b[1;32m   4228\u001b[0m     \u001b[38;5;66;03m# Both the mapping *and* the RGBA conversion failed: pretty\u001b[39;00m\n\u001b[1;32m   4229\u001b[0m     \u001b[38;5;66;03m# severe failure => one may appreciate a verbose feedback.\u001b[39;00m\n\u001b[1;32m   4230\u001b[0m     \u001b[38;5;28;01mraise\u001b[39;00m \u001b[38;5;167;01mValueError\u001b[39;00m(\n\u001b[1;32m   4231\u001b[0m         \u001b[38;5;124mf\u001b[39m\u001b[38;5;124m\"\u001b[39m\u001b[38;5;124m'\u001b[39m\u001b[38;5;124mc\u001b[39m\u001b[38;5;124m'\u001b[39m\u001b[38;5;124m argument must be a color, a sequence of colors, \u001b[39m\u001b[38;5;124m\"\u001b[39m\n\u001b[1;32m   4232\u001b[0m         \u001b[38;5;124mf\u001b[39m\u001b[38;5;124m\"\u001b[39m\u001b[38;5;124mor a sequence of numbers, not \u001b[39m\u001b[38;5;132;01m{\u001b[39;00mc\u001b[38;5;132;01m}\u001b[39;00m\u001b[38;5;124m\"\u001b[39m) \u001b[38;5;28;01mfrom\u001b[39;00m \u001b[38;5;21;01merr\u001b[39;00m\n",
      "\u001b[0;31mValueError\u001b[0m: 'c' argument has 1 elements, which is inconsistent with 'x' and 'y' with size 156."
     ]
    },
    {
     "data": {
      "image/png": "[encoded data removed]",
      "text/plain": [
       "<Figure size 432x288 with 1 Axes>"
      ]
     },
     "metadata": {
      "needs_background": "light"
     },
     "output_type": "display_data"
    }
   ],
   "source": [
    "for s in subset:\n",
    "    scatter(s[:,0],s[:,1],c= volts[i])\n",
    "    i+=1"
   ]
  },
  {
   "cell_type": "code",
   "execution_count": null,
   "id": "590faca3",
   "metadata": {},
   "outputs": [],
   "source": []
  }
 ],
 "metadata": {
  "kernelspec": {
   "display_name": "Python 3 (ipykernel)",
   "language": "python",
   "name": "python3"
  },
  "language_info": {
   "codemirror_mode": {
    "name": "ipython",
    "version": 3
   },
   "file_extension": ".py",
   "mimetype": "text/x-python",
   "name": "python",
   "nbconvert_exporter": "python",
   "pygments_lexer": "ipython3",
   "version": "3.9.12"
  },
  "toc": {
   "base_numbering": 1,
   "nav_menu": {},
   "number_sections": true,
   "sideBar": true,
   "skip_h1_title": false,
   "title_cell": "Table of Contents",
   "title_sidebar": "Contents",
   "toc_cell": false,
   "toc_position": {},
   "toc_section_display": true,
   "toc_window_display": false
  }
 },
 "nbformat": 4,
 "nbformat_minor": 5
}
