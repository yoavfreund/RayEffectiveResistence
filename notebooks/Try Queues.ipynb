{
 "cells": [
  {
   "cell_type": "code",
   "execution_count": 20,
   "id": "6c849e2a",
   "metadata": {},
   "outputs": [],
   "source": [
    "import queue\n",
    "import numpy as np"
   ]
  },
  {
   "cell_type": "code",
   "execution_count": 104,
   "id": "be7b7f19",
   "metadata": {},
   "outputs": [
    {
     "name": "stdout",
     "output_type": "stream",
     "text": [
      "Writing pipe.py\n"
     ]
    }
   ],
   "source": [
    "%%writefile pipe.py\n",
    "class pipe:\n",
    "    def __init__(self,block_size=100,debug=False):\n",
    "        self.queue=queue.Queue()\n",
    "        self.block_size=block_size\n",
    "        self.block=np.ones([0,0])\n",
    "        self.width=0\n",
    "        self.debug=debug\n",
    "        \n",
    "    def put(self,data):\n",
    "        \"\"\"chop incoming data into blocks of equal size and send through queue\"\"\"\n",
    "        assert type(data)==np.ndarray\n",
    "        _,w=data.shape\n",
    "        if self.width==0:\n",
    "            self.width=w\n",
    "        else:\n",
    "            assert self.width==w\n",
    "        \n",
    "        if self.block.shape==(0,0):\n",
    "            self.block=np.ones([0,w])\n",
    "            \n",
    "        while data.shape[0]>0:\n",
    "            if self.debug:\n",
    "                print('data shape=',data.shape[0],'block shape=',self.block.shape[0])\n",
    "            # check if remaining data fits into buffer\n",
    "            space=self.block_size-self.block.shape[0]\n",
    "            if space<=data.shape[0]:\n",
    "                if self.debug:\n",
    "                    print('<= ',space,self.block.shape,data.shape)\n",
    "                self.block=np.concatenate([self.block,data[:space,:]],axis=0)\n",
    "                data=data[space:,:]\n",
    "            else:\n",
    "                if self.debug:\n",
    "                    print('> ',space,self.block.shape,data.shape)\n",
    "                self.block=np.concatenate([self.block,data],axis=0)\n",
    "                data=np.ones([0,w])\n",
    "\n",
    "            if self.block.shape[0] ==self.block_size:\n",
    "                self.queue.put(self.block)\n",
    "                self.block=np.ones([0,w])\n",
    "                                            \n",
    "    def get(self,block=True):\n",
    "        try:\n",
    "            item=self.queue.get(block=block)\n",
    "        except queue.Empty:\n",
    "            return None\n",
    "        return item\n",
    "    \n",
    "    \n",
    "\n",
    "P=pipe(block_size=10,debug=True)\n",
    "\n",
    "for i in range(10):\n",
    "    item=i*np.ones([3,10])\n",
    "    P.put(item)\n",
    "    print('put ',i,end=' ')\n",
    "    out=P.get(block=False)\n",
    "    if out is None:\n",
    "        print('got Nothing')\n",
    "    else:\n",
    "        print('got ',out.shape)\n"
   ]
  },
  {
   "cell_type": "code",
   "execution_count": 21,
   "id": "06cacf1a",
   "metadata": {},
   "outputs": [],
   "source": [
    "q=queue.Queue()\n",
    "\n",
    "item=np.ones([10,10])\n",
    "type(item)==np.ndarray\n",
    "\n",
    "for i in range(5):\n",
    "    q.put(i*item)\n",
    "\n",
    "q.get()"
   ]
  },
  {
   "cell_type": "code",
   "execution_count": 97,
   "id": "c8f0572b",
   "metadata": {},
   "outputs": [
    {
     "data": {
      "text/plain": [
       "False"
      ]
     },
     "execution_count": 97,
     "metadata": {},
     "output_type": "execute_result"
    }
   ],
   "source": [
    "P.get() is None"
   ]
  },
  {
   "cell_type": "code",
   "execution_count": null,
   "id": "811753e9",
   "metadata": {},
   "outputs": [],
   "source": []
  }
 ],
 "metadata": {
  "kernelspec": {
   "display_name": "Python 3 (ipykernel)",
   "language": "python",
   "name": "python3"
  },
  "language_info": {
   "codemirror_mode": {
    "name": "ipython",
    "version": 3
   },
   "file_extension": ".py",
   "mimetype": "text/x-python",
   "name": "python",
   "nbconvert_exporter": "python",
   "pygments_lexer": "ipython3",
   "version": "3.9.12"
  },
  "toc": {
   "base_numbering": 1,
   "nav_menu": {},
   "number_sections": true,
   "sideBar": true,
   "skip_h1_title": false,
   "title_cell": "Table of Contents",
   "title_sidebar": "Contents",
   "toc_cell": false,
   "toc_position": {},
   "toc_section_display": true,
   "toc_window_display": false
  }
 },
 "nbformat": 4,
 "nbformat_minor": 5
}
