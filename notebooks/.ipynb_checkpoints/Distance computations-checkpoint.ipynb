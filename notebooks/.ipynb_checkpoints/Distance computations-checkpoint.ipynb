{
 "cells": [
  {
   "cell_type": "code",
   "execution_count": 1,
   "id": "dd0beb76",
   "metadata": {},
   "outputs": [
    {
     "name": "stdout",
     "output_type": "stream",
     "text": [
      "%pylab is deprecated, use %matplotlib inline and import the required libraries.\n",
      "Populating the interactive namespace from numpy and matplotlib\n"
     ]
    }
   ],
   "source": [
    "%pylab inline\n",
    "from scipy.spatial.distance import cdist"
   ]
  },
  {
   "cell_type": "code",
   "execution_count": 2,
   "id": "1f0aaf76",
   "metadata": {
    "scrolled": true
   },
   "outputs": [],
   "source": [
    "def find_dists(X,rep):\n",
    "    C=cdist(X,rep)\n",
    "    index=argmin(C,axis=1)\n",
    "    dist=np.min(C,axis=1)\n",
    "    return index,dist\n",
    "\n",
    "def find_cover_iter(rep,X,epsilon=1,debug=False) :\n",
    "    m=X.shape[0]\n",
    "    found=False\n",
    "    for i in range(m):\n",
    "        x=X[i:i+1,:]  # can make more efficient by checking several at once and keeping \n",
    "                      # track of the location of the last find.\n",
    "        _,dist=find_dists(x,rep)\n",
    "        if np.min(dist)>epsilon:\n",
    "            if debug:\n",
    "                print(i,np.min(dist),rep.shape)\n",
    "            rep=concatenate([rep,x],axis=0)\n",
    "            found=True\n",
    "    return rep,found\n",
    "\n",
    "def source(m,n):\n",
    "    \" a generator of example batches\"\n",
    "    while True:\n",
    "        yield (rand(m,n)*2)-1\n",
    "\n",
    "def find_cover(rep,source,epsilon=1,debug=False):\n",
    "    found=True; j=0\n",
    "    cover=rep\n",
    "    for X in source():\n",
    "        cover,found=find_cover_iter(cover,X,epsilon=epsilon,debug=debug)\n",
    "        if debug:\n",
    "            print('### round ',j,cover.shape); j+=1\n",
    "        if not found:\n",
    "            break\n",
    "    return cover\n",
    "\n",
    "def split(X,cover):\n",
    "    \"\"\" Partition rows in X according to the cclosest row in cover\"\"\"\n",
    "    index,dist = find_dists(X,cover)\n",
    "    \n",
    "    subset=[]\n",
    "    for i in range(cover.shape[0]):\n",
    "        s=X[nonzero(index==i),:]\n",
    "        subset.append(s[0,:,:])\n",
    "    return subset"
   ]
  },
  {
   "cell_type": "code",
   "execution_count": 3,
   "id": "67e8529e",
   "metadata": {
    "scrolled": true
   },
   "outputs": [
    {
     "data": {
      "text/plain": [
       "(6, 2)"
      ]
     },
     "execution_count": 3,
     "metadata": {},
     "output_type": "execute_result"
    }
   ],
   "source": [
    "n=2;\n",
    "m=3\n",
    "rep=eye(n)\n",
    "X=concatenate([eye(n)*(1+0.1*i) for i in range(m)],axis=0)\n",
    "X.shape"
   ]
  },
  {
   "cell_type": "code",
   "execution_count": 4,
   "id": "e1e3ccd0",
   "metadata": {},
   "outputs": [
    {
     "data": {
      "text/plain": [
       "array([[1. , 0. ],\n",
       "       [0. , 1. ],\n",
       "       [1.1, 0. ],\n",
       "       [0. , 1.1],\n",
       "       [1.2, 0. ],\n",
       "       [0. , 1.2]])"
      ]
     },
     "execution_count": 4,
     "metadata": {},
     "output_type": "execute_result"
    }
   ],
   "source": [
    "X"
   ]
  },
  {
   "cell_type": "code",
   "execution_count": 5,
   "id": "ad3f95e9",
   "metadata": {},
   "outputs": [],
   "source": [
    "index,dist = find_dists(X,rep)"
   ]
  },
  {
   "cell_type": "code",
   "execution_count": 6,
   "id": "054dfd04",
   "metadata": {},
   "outputs": [
    {
     "data": {
      "text/plain": [
       "array([0, 1, 0, 1, 0, 1])"
      ]
     },
     "execution_count": 6,
     "metadata": {},
     "output_type": "execute_result"
    }
   ],
   "source": [
    "index"
   ]
  },
  {
   "cell_type": "code",
   "execution_count": 7,
   "id": "21416aff",
   "metadata": {},
   "outputs": [
    {
     "data": {
      "text/plain": [
       "array([0. , 0. , 0.1, 0.1, 0.2, 0.2])"
      ]
     },
     "execution_count": 7,
     "metadata": {},
     "output_type": "execute_result"
    }
   ],
   "source": [
    "dist"
   ]
  },
  {
   "cell_type": "markdown",
   "id": "f5ff2508",
   "metadata": {},
   "source": [
    "### finding a cover"
   ]
  },
  {
   "cell_type": "code",
   "execution_count": 8,
   "id": "b5652a09",
   "metadata": {},
   "outputs": [
    {
     "name": "stdout",
     "output_type": "stream",
     "text": [
      "CPU times: user 155 ms, sys: 4.98 ms, total: 160 ms\n",
      "Wall time: 160 ms\n"
     ]
    }
   ],
   "source": [
    "%%time\n",
    "n=2\n",
    "rep=array([zeros(n)])\n",
    "rep.shape\n",
    "epsilon=0.5\n",
    "m=10000\n",
    "\n",
    "def source():\n",
    "    while True:\n",
    "        yield (rand(m,n)*2)-1\n",
    "        \n",
    "cover=find_cover(rep,source,epsilon=epsilon)"
   ]
  },
  {
   "cell_type": "code",
   "execution_count": 9,
   "id": "42adc091",
   "metadata": {},
   "outputs": [
    {
     "data": {
      "text/plain": [
       "(15, 2)"
      ]
     },
     "execution_count": 9,
     "metadata": {},
     "output_type": "execute_result"
    }
   ],
   "source": [
    "cover.shape"
   ]
  },
  {
   "cell_type": "code",
   "execution_count": 10,
   "id": "e4455b60",
   "metadata": {},
   "outputs": [
    {
     "data": {
      "text/plain": [
       "<matplotlib.collections.PathCollection at 0x1345c9130>"
      ]
     },
     "execution_count": 10,
     "metadata": {},
     "output_type": "execute_result"
    },
    {
     "data": {
      "image/png": "[encoded data removed]",
      "text/plain": [
       "<Figure size 432x288 with 1 Axes>"
      ]
     },
     "metadata": {
      "needs_background": "light"
     },
     "output_type": "display_data"
    }
   ],
   "source": [
    "scatter(cover[:,0],cover[:,1])"
   ]
  },
  {
   "cell_type": "markdown",
   "id": "d09fbb89",
   "metadata": {},
   "source": [
    "### Split Examples"
   ]
  },
  {
   "cell_type": "code",
   "execution_count": 11,
   "id": "55ed3843",
   "metadata": {},
   "outputs": [
    {
     "data": {
      "text/plain": [
       "((6,), (10000, 2))"
      ]
     },
     "execution_count": 11,
     "metadata": {},
     "output_type": "execute_result"
    }
   ],
   "source": [
    "X=source().__next__()\n",
    "\n",
    "\n",
    "index.shape, X.shape"
   ]
  },
  {
   "cell_type": "code",
   "execution_count": 12,
   "id": "4b8a9c6c",
   "metadata": {},
   "outputs": [
    {
     "data": {
      "image/png": "[encoded data removed]",
      "text/plain": [
       "<Figure size 432x288 with 1 Axes>"
      ]
     },
     "metadata": {
      "needs_background": "light"
     },
     "output_type": "display_data"
    }
   ],
   "source": [
    "subset=split(X,cover)\n",
    "\n",
    "for s in subset:\n",
    "    scatter(s[:,0],s[:,1])"
   ]
  },
  {
   "cell_type": "code",
   "execution_count": null,
   "id": "b3a48439",
   "metadata": {},
   "outputs": [],
   "source": [
    "data=[]\n",
    "j=0\n",
    "while x in source():\n",
    "    data.append.x"
   ]
  },
  {
   "cell_type": "code",
   "execution_count": null,
   "id": "f108e244",
   "metadata": {},
   "outputs": [],
   "source": []
  }
 ],
 "metadata": {
  "kernelspec": {
   "display_name": "Python 3 (ipykernel)",
   "language": "python",
   "name": "python3"
  },
  "language_info": {
   "codemirror_mode": {
    "name": "ipython",
    "version": 3
   },
   "file_extension": ".py",
   "mimetype": "text/x-python",
   "name": "python",
   "nbconvert_exporter": "python",
   "pygments_lexer": "ipython3",
   "version": "3.9.12"
  },
  "toc": {
   "base_numbering": 1,
   "nav_menu": {},
   "number_sections": true,
   "sideBar": true,
   "skip_h1_title": false,
   "title_cell": "Table of Contents",
   "title_sidebar": "Contents",
   "toc_cell": false,
   "toc_position": {},
   "toc_section_display": true,
   "toc_window_display": false
  }
 },
 "nbformat": 4,
 "nbformat_minor": 5
}
