{
 "cells": [
  {
   "cell_type": "code",
   "execution_count": 20,
   "id": "3eb963fb",
   "metadata": {},
   "outputs": [],
   "source": [
    "import queue\n",
    "import numpy as np"
   ]
  },
  {
   "cell_type": "code",
   "execution_count": 21,
   "id": "5687c0b2",
   "metadata": {},
   "outputs": [],
   "source": [
    "q=queue.Queue()"
   ]
  },
  {
   "cell_type": "code",
   "execution_count": 32,
   "id": "1f7f7b98",
   "metadata": {},
   "outputs": [
    {
     "data": {
      "text/plain": [
       "True"
      ]
     },
     "execution_count": 32,
     "metadata": {},
     "output_type": "execute_result"
    }
   ],
   "source": [
    "item=np.ones([10,10])\n",
    "type(item)==np.ndarray"
   ]
  },
  {
   "cell_type": "code",
   "execution_count": 23,
   "id": "4789f0f1",
   "metadata": {},
   "outputs": [],
   "source": [
    "for i in range(5):\n",
    "    q.put(i*item)"
   ]
  },
  {
   "cell_type": "code",
   "execution_count": 29,
   "id": "34a29639",
   "metadata": {
    "collapsed": true
   },
   "outputs": [
    {
     "ename": "KeyboardInterrupt",
     "evalue": "",
     "output_type": "error",
     "traceback": [
      "\u001b[0;31m---------------------------------------------------------------------------\u001b[0m",
      "\u001b[0;31mKeyboardInterrupt\u001b[0m                         Traceback (most recent call last)",
      "Input \u001b[0;32mIn [29]\u001b[0m, in \u001b[0;36m<cell line: 1>\u001b[0;34m()\u001b[0m\n\u001b[0;32m----> 1\u001b[0m \u001b[43mq\u001b[49m\u001b[38;5;241;43m.\u001b[39;49m\u001b[43mget\u001b[49m\u001b[43m(\u001b[49m\u001b[43m)\u001b[49m\n",
      "File \u001b[0;32m~/miniforge3/lib/python3.9/queue.py:171\u001b[0m, in \u001b[0;36mQueue.get\u001b[0;34m(self, block, timeout)\u001b[0m\n\u001b[1;32m    169\u001b[0m \u001b[38;5;28;01melif\u001b[39;00m timeout \u001b[38;5;129;01mis\u001b[39;00m \u001b[38;5;28;01mNone\u001b[39;00m:\n\u001b[1;32m    170\u001b[0m     \u001b[38;5;28;01mwhile\u001b[39;00m \u001b[38;5;129;01mnot\u001b[39;00m \u001b[38;5;28mself\u001b[39m\u001b[38;5;241m.\u001b[39m_qsize():\n\u001b[0;32m--> 171\u001b[0m         \u001b[38;5;28;43mself\u001b[39;49m\u001b[38;5;241;43m.\u001b[39;49m\u001b[43mnot_empty\u001b[49m\u001b[38;5;241;43m.\u001b[39;49m\u001b[43mwait\u001b[49m\u001b[43m(\u001b[49m\u001b[43m)\u001b[49m\n\u001b[1;32m    172\u001b[0m \u001b[38;5;28;01melif\u001b[39;00m timeout \u001b[38;5;241m<\u001b[39m \u001b[38;5;241m0\u001b[39m:\n\u001b[1;32m    173\u001b[0m     \u001b[38;5;28;01mraise\u001b[39;00m \u001b[38;5;167;01mValueError\u001b[39;00m(\u001b[38;5;124m\"\u001b[39m\u001b[38;5;124m'\u001b[39m\u001b[38;5;124mtimeout\u001b[39m\u001b[38;5;124m'\u001b[39m\u001b[38;5;124m must be a non-negative number\u001b[39m\u001b[38;5;124m\"\u001b[39m)\n",
      "File \u001b[0;32m~/miniforge3/lib/python3.9/threading.py:312\u001b[0m, in \u001b[0;36mCondition.wait\u001b[0;34m(self, timeout)\u001b[0m\n\u001b[1;32m    310\u001b[0m \u001b[38;5;28;01mtry\u001b[39;00m:    \u001b[38;5;66;03m# restore state no matter what (e.g., KeyboardInterrupt)\u001b[39;00m\n\u001b[1;32m    311\u001b[0m     \u001b[38;5;28;01mif\u001b[39;00m timeout \u001b[38;5;129;01mis\u001b[39;00m \u001b[38;5;28;01mNone\u001b[39;00m:\n\u001b[0;32m--> 312\u001b[0m         \u001b[43mwaiter\u001b[49m\u001b[38;5;241;43m.\u001b[39;49m\u001b[43macquire\u001b[49m\u001b[43m(\u001b[49m\u001b[43m)\u001b[49m\n\u001b[1;32m    313\u001b[0m         gotit \u001b[38;5;241m=\u001b[39m \u001b[38;5;28;01mTrue\u001b[39;00m\n\u001b[1;32m    314\u001b[0m     \u001b[38;5;28;01melse\u001b[39;00m:\n",
      "\u001b[0;31mKeyboardInterrupt\u001b[0m: "
     ]
    }
   ],
   "source": [
    "q.get()"
   ]
  },
  {
   "cell_type": "code",
   "execution_count": 83,
   "id": "71f47057",
   "metadata": {},
   "outputs": [
    {
     "name": "stdout",
     "output_type": "stream",
     "text": [
      "7\n",
      "data shape= 220 block shape= 0\n",
      "<=  100 (0, 7) (220, 7)\n",
      "data shape= 120 block shape= 0\n",
      "<=  100 (0, 7) (120, 7)\n",
      "data shape= 20 block shape= 0\n",
      ">  100 (0, 7) (20, 7)\n"
     ]
    }
   ],
   "source": [
    "class pipe:\n",
    "    def __init__(self,block_size=100):\n",
    "        self.queue=queue.Queue()\n",
    "        self.block_size=block_size\n",
    "        self.block=np.ones([0,0])\n",
    "        self.width=0\n",
    "        \n",
    "    def put(self,data):\n",
    "        \"\"\"chop incoming data into blocks of equal size and send through queue\"\"\"\n",
    "        assert type(data)==np.ndarray\n",
    "        _,w=data.shape\n",
    "        print(w)\n",
    "        if self.width==0:\n",
    "            self.width=w\n",
    "        else:\n",
    "            assert self.width==w\n",
    "        \n",
    "        if self.block.shape==(0,0):\n",
    "            self.block=np.ones([0,w])\n",
    "            \n",
    "        while data.shape[0]>0:\n",
    "            print('data shape=',data.shape[0],'block shape=',self.block.shape[0])\n",
    "            # check if remaining data fits into buffer\n",
    "            space=self.block_size-self.block.shape[0]\n",
    "            if space<=data.shape[0]:\n",
    "                print('<= ',space,self.block.shape,data.shape)\n",
    "                self.block=np.concatenate([self.block,data[:space,:]],axis=0)\n",
    "                data=data[space:,:]\n",
    "            else:\n",
    "                print('> ',space,self.block.shape,data.shape)\n",
    "                self.block=np.concatenate([self.block,data],axis=0)\n",
    "                data=np.ones([0,w])\n",
    "\n",
    "            if self.block.shape[0] ==self.block_size:\n",
    "                self.queue.put(self.block)\n",
    "                self.block=np.ones([0,w])\n",
    "                                            \n",
    "    def get(self):\n",
    "        return self.queue.get()\n",
    "    \n",
    "\n",
    "P=pipe()\n",
    "\n",
    "P.put(item)"
   ]
  },
  {
   "cell_type": "code",
   "execution_count": null,
   "id": "e2643732",
   "metadata": {},
   "outputs": [],
   "source": []
  }
 ],
 "metadata": {
  "kernelspec": {
   "display_name": "Python 3 (ipykernel)",
   "language": "python",
   "name": "python3"
  },
  "language_info": {
   "codemirror_mode": {
    "name": "ipython",
    "version": 3
   },
   "file_extension": ".py",
   "mimetype": "text/x-python",
   "name": "python",
   "nbconvert_exporter": "python",
   "pygments_lexer": "ipython3",
   "version": "3.9.12"
  },
  "toc": {
   "base_numbering": 1,
   "nav_menu": {},
   "number_sections": true,
   "sideBar": true,
   "skip_h1_title": false,
   "title_cell": "Table of Contents",
   "title_sidebar": "Contents",
   "toc_cell": false,
   "toc_position": {},
   "toc_section_display": true,
   "toc_window_display": false
  }
 },
 "nbformat": 4,
 "nbformat_minor": 5
}
